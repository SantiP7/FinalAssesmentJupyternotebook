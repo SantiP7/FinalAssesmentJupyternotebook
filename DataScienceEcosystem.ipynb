{
 "cells": [
  {
   "cell_type": "markdown",
   "id": "4b30ce38",
   "metadata": {},
   "source": [
    "# Data Science Tools and Ecosystem"
   ]
  },
  {
   "cell_type": "markdown",
   "id": "f141bb32",
   "metadata": {},
   "source": [
    "In this notebook, Data Science Tools and Ecosystem are summarized."
   ]
  },
  {
   "cell_type": "markdown",
   "id": "10190fe2",
   "metadata": {},
   "source": [
    "**Objectives:**\n",
    "\n",
    "* Creation of headers and text formatting in Markdown\n",
    "* Creation of lists, numbered and bullets\n",
    "* List popular languages and libraries for Data Science\n",
    "* Use of tables\n",
    "* Use of comments and math expressions in Code cells"
   ]
  },
  {
   "cell_type": "markdown",
   "id": "ed3841c3",
   "metadata": {},
   "source": [
    "Some of the popular languages that Data Scientists use are:\n",
    "\n",
    "1. Python\n",
    "2. R\n",
    "3. SQL\n",
    "4. Java\n",
    "5. Julia"
   ]
  },
  {
   "cell_type": "markdown",
   "id": "0e1f730a",
   "metadata": {},
   "source": [
    "Some of the commonly used libraries used by Data Scientists include:\n",
    "\n",
    "1. Panda\n",
    "2. Numpy\n",
    "3. Matplotlib\n",
    "4. Tensorflow\n",
    "5. Pytorch"
   ]
  },
  {
   "cell_type": "markdown",
   "id": "d4ea440d",
   "metadata": {},
   "source": [
    "| Data Science     |\n",
    "|------------------|\n",
    "| Jupyter notebooks|\n",
    "| RStudio          |\n",
    "| Spyder           |"
   ]
  },
  {
   "cell_type": "markdown",
   "id": "b63dd5b8",
   "metadata": {},
   "source": [
    "### Below are a few examples of evaluating arithmetic expressions in Python"
   ]
  },
  {
   "cell_type": "code",
   "execution_count": 3,
   "id": "2331ceb1",
   "metadata": {},
   "outputs": [
    {
     "data": {
      "text/plain": [
       "17"
      ]
     },
     "execution_count": 3,
     "metadata": {},
     "output_type": "execute_result"
    }
   ],
   "source": [
    "# This is a simple arithmetic expression to multiply then add integers.\n",
    "Expression = (3*4) + 5\n",
    "Expression"
   ]
  },
  {
   "cell_type": "code",
   "execution_count": 5,
   "id": "81ca08ba",
   "metadata": {},
   "outputs": [
    {
     "data": {
      "text/plain": [
       "3.3333333333333335"
      ]
     },
     "execution_count": 5,
     "metadata": {},
     "output_type": "execute_result"
    }
   ],
   "source": [
    "# This will convert 200 minutes to hours by dividing by 60\n",
    "minutes = 200\n",
    "Hoursconv = (minutes/60)\n",
    "Hoursconv"
   ]
  },
  {
   "cell_type": "markdown",
   "id": "c421dd83",
   "metadata": {},
   "source": [
    "## Author\n",
    "Santiago Alejandro Pombo"
   ]
  },
  {
   "cell_type": "code",
   "execution_count": null,
   "id": "bf5ee91f",
   "metadata": {},
   "outputs": [],
   "source": []
  }
 ],
 "metadata": {
  "kernelspec": {
   "display_name": "Python 3 (ipykernel)",
   "language": "python",
   "name": "python3"
  },
  "language_info": {
   "codemirror_mode": {
    "name": "ipython",
    "version": 3
   },
   "file_extension": ".py",
   "mimetype": "text/x-python",
   "name": "python",
   "nbconvert_exporter": "python",
   "pygments_lexer": "ipython3",
   "version": "3.11.4"
  }
 },
 "nbformat": 4,
 "nbformat_minor": 5
}
